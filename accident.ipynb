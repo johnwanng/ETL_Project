{
 "metadata": {
  "language_info": {
   "codemirror_mode": {
    "name": "ipython",
    "version": 3
   },
   "file_extension": ".py",
   "mimetype": "text/x-python",
   "name": "python",
   "nbconvert_exporter": "python",
   "pygments_lexer": "ipython3",
   "version": "3.8.5-final"
  },
  "orig_nbformat": 2,
  "kernelspec": {
   "name": "python3",
   "display_name": "Python 3.8.5 64-bit ('base': conda)",
   "metadata": {
    "interpreter": {
     "hash": "3a86e58504f5e3cb3215340ad196333ed979f9c7b64d8af4f1cdf302e1fdb17e"
    }
   }
  }
 },
 "nbformat": 4,
 "nbformat_minor": 2,
 "cells": [
  {
   "cell_type": "code",
   "execution_count": 1,
   "metadata": {},
   "outputs": [],
   "source": [
    "# Dependencies and Setup\n",
    "import pandas as pd"
   ]
  },
  {
   "cell_type": "code",
   "execution_count": 2,
   "metadata": {},
   "outputs": [],
   "source": [
    "### Extract CSVs into DataFrames"
   ]
  },
  {
   "cell_type": "code",
   "execution_count": 3,
   "metadata": {},
   "outputs": [],
   "source": [
    "# File to Load (Remember to Change These)\n",
    "accident_data_to_load = \"Resources/Accident_Information.csv\"\n",
    "weather_to_load = \"Resources/MET_Office_Weather_Data.csv\"\n",
    "vehicle_to_load = \"Resources/Vehicle_Information.csv\"\n",
    "uk_bank_holidays_to_load = \"Resources/uk_bank_holidays.csv\"\n",
    "\n",
    "\n",
    "# Read CSV files and store into Pandas DataFrames\n",
    "accident_data = pd.read_csv(accident_data_to_load)\n",
    "weather_data = pd.read_csv(weather_to_load)\n",
    "vehicle_data = pd.read_csv(vehicle_to_load)\n",
    "uk_bank_holidays_data = pd.read_csv(uk_bank_holidays_to_load)"
   ]
  },
  {
   "cell_type": "code",
   "execution_count": 4,
   "metadata": {},
   "outputs": [],
   "source": [
    "### Transform accident, weather and vehicle DataFrames"
   ]
  },
  {
   "cell_type": "code",
   "execution_count": 5,
   "metadata": {},
   "outputs": [
    {
     "output_type": "execute_result",
     "data": {
      "text/plain": [
       "0           1\n",
       "1           1\n",
       "2           1\n",
       "3           1\n",
       "4           1\n",
       "           ..\n",
       "2025527    11\n",
       "2025528    12\n",
       "2025529    12\n",
       "2025530    12\n",
       "2025531    12\n",
       "Name: month, Length: 22387, dtype: int64"
      ]
     },
     "metadata": {},
     "execution_count": 5
    }
   ],
   "source": [
    "# We are intereested in accident data that are related to London only\n",
    "london_accident = accident_data.loc[(accident_data[\"Local_Authority_(District)\"] == 'City of London')|(accident_data[\"Local_Authority_(District)\"] == 'Hammersmith and Fulham')|(accident_data[\"Local_Authority_(District)\"] == 'London Airport (Heathrow)')|(accident_data[\"Local_Authority_(District)\"] == 'Kensington and Chelsea')|(accident_data[\"Local_Authority_(District)\"] == 'Hammersmith and Fulham')]\n",
    "\n",
    "london_accident.count()\n",
    "\n",
    "# We are intereested in weather data that are related to London only\n",
    "london_weather = weather_data.loc[(weather_data[\"station\"] == 'heathrow')]\n",
    "\n",
    "# Create a new column month in the accident so it can be later linked to the weather table\n",
    "london_accident['month'] = pd.DatetimeIndex(london_accident['Date']).month\n",
    "\n",
    "london_accident['month'] \n",
    "\n",
    "#Index(['Accident_Index', '1st_Road_Class', '1st_Road_Number', '2nd_Road_Class',\n",
    "       #'2nd_Road_Number', 'Accident_Severity', 'Carriageway_Hazards', 'Date',\n",
    "       #'Day_of_Week', 'Did_Police_Officer_Attend_Scene_of_Accident',\n",
    "       #'Junction_Control', 'Junction_Detail', 'Latitude', 'Light_Conditions',\n",
    "       #'Local_Authority_(District)', 'Local_Authority_(Highway)',\n",
    "       #'Location_Easting_OSGR', 'Location_Northing_OSGR', 'Longitude',\n",
    "       #'LSOA_of_Accident_Location', 'Number_of_Casualties',\n",
    "       #'Number_of_Vehicles', 'Pedestrian_Crossing-Human_Control',\n",
    "       #'Pedestrian_Crossing-Physical_Facilities', 'Police_Force',\n",
    "       #'Road_Surface_Conditions', 'Road_Type', 'Special_Conditions_at_Site',\n",
    "       #'Speed_limit', 'Time', 'Urban_or_Rural_Area', 'Weather_Conditions',\n",
    "       #'Year', 'InScotland'],\n",
    "      #dtype='object')\n",
    "\n",
    "#Hammersmith and Fulham\n",
    "#City of London\n",
    "#London Airport (Heathrow)\n",
    "#Kensington and Chelsea\n",
    "#Hammersmith and Fulham\n",
    "\n",
    "\n"
   ]
  },
  {
   "cell_type": "code",
   "execution_count": 6,
   "metadata": {},
   "outputs": [],
   "source": [
    "\n",
    "# Convert both the month and year column to int\n",
    "london_weather = london_weather.astype({\"month\":int, \"year\":int})\n",
    "# Rename the year column to Year \n",
    "london_weather.rename(columns={'year':'Year'}, inplace=True)"
   ]
  },
  {
   "cell_type": "code",
   "execution_count": 7,
   "metadata": {},
   "outputs": [
    {
     "output_type": "stream",
     "name": "stdout",
     "text": [
      "2177205\n"
     ]
    }
   ],
   "source": [
    "# Review the number of vehicle data before cleansing\n",
    "index = vehicle_data.index\n",
    "number_of_rows = len(index)\n",
    "print(number_of_rows)"
   ]
  },
  {
   "cell_type": "code",
   "execution_count": 8,
   "metadata": {},
   "outputs": [
    {
     "output_type": "stream",
     "name": "stdout",
     "text": [
      "1596476\n"
     ]
    }
   ],
   "source": [
    "# Cleansing the vehicle data and filter data having nan value\n",
    "vehicle_cleanse_data = vehicle_data[vehicle_data['Age_of_Vehicle'].notnull()]\n",
    "\n",
    "# Cleansing the vehicle data and filter data having Data missing or out of range in those columns\n",
    "vehicle_cleanse_data = vehicle_cleanse_data.loc[(vehicle_cleanse_data[\"Age_Band_of_Driver\"] != \"Data missing or out of range\") &\n",
    "    (vehicle_cleanse_data[\"Age_of_Vehicle\"] != \"Data missing or out of range\") &\n",
    "    (vehicle_cleanse_data[\"Hit_Object_in_Carriageway\"] != \"Data missing or out of range\") &\n",
    "    (vehicle_cleanse_data[\"Hit_Object_off_Carriageway\"] != \"Data missing or out of range\") &\n",
    "    (vehicle_cleanse_data[\"make\"] != \"Data missing or out of range\") &\n",
    "    (vehicle_cleanse_data[\"model\"] != \"Data missing or out of range\") &\n",
    "    (vehicle_cleanse_data[\"Sex_of_Driver\"] != \"Data missing or out of range\") &\n",
    "    (vehicle_cleanse_data[\"Skidding_and_Overturning\"] != \"Data missing or out of range\") &\n",
    "    (vehicle_cleanse_data[\"Towing_and_Articulation\"] != \"Data missing or out of range\") &\n",
    "    (vehicle_cleanse_data[\"Vehicle_Manoeuvre\"] != \"Data missing or out of range\") &\n",
    "    (vehicle_cleanse_data[\"Vehicle_Type\"] != \"Data missing or out of range\") &\n",
    "    (vehicle_cleanse_data[\"Was_Vehicle_Left_Hand_Drive\"] != \"Data missing or out of range\")]\n",
    "\n",
    "vehicle_cols = [\"Accident_Index\",\"Age_Band_of_Driver\",\"Age_of_Vehicle\",\"Hit_Object_in_Carriageway\",\"Hit_Object_off_Carriageway\",\"make\",\"model\",\"Sex_of_Driver\",\"Skidding_and_Overturning\",\"Towing_and_Articulation\",\"Vehicle_Manoeuvre\",\"Vehicle_Type\",\"Was_Vehicle_Left_Hand_Drive\",\"Year\"]\n",
    "\n",
    "vehicle_transformed = vehicle_cleanse_data[vehicle_cols].copy()\n",
    "vehicle_transformed.set_index(\"Accident_Index\", inplace=True)\n",
    "\n",
    "\n",
    "# Now see the number of vehicle data after cleansing \n",
    "index = vehicle_transformed.index\n",
    "number_of_rows = len(index)\n",
    "print(number_of_rows)"
   ]
  },
  {
   "cell_type": "code",
   "execution_count": 9,
   "metadata": {},
   "outputs": [
    {
     "output_type": "stream",
     "name": "stdout",
     "text": [
      "22387\n"
     ]
    }
   ],
   "source": [
    "# Review the number of accident data before cleansing\n",
    "london_accident\n",
    "index = london_accident.index\n",
    "number_of_rows = len(index)\n",
    "print(number_of_rows)"
   ]
  },
  {
   "cell_type": "code",
   "execution_count": 10,
   "metadata": {},
   "outputs": [
    {
     "output_type": "stream",
     "name": "stdout",
     "text": [
      "22181\n"
     ]
    }
   ],
   "source": [
    "# Cleansing the accident data and filter data having nan value\n",
    "accident_cleanse_data = london_accident[london_accident['Pedestrian_Crossing-Human_Control'].notnull()]\n",
    "accident_cleanse_data = accident_cleanse_data[accident_cleanse_data['Pedestrian_Crossing-Physical_Facilities'].notnull()]\n",
    "\n",
    "# Cleansing the accident data and filter data having Data missing or out of range in those columns\n",
    "accident_cleanse_data = accident_cleanse_data.loc[(accident_cleanse_data[\"Road_Surface_Conditions\"] != \"Data missing or out of range\") & (accident_cleanse_data[\"Special_Conditions_at_Site\"] != \"Data missing or out of range\")]\n",
    "\n",
    "\n",
    "accident_cleanse_data.rename(columns={'Local_Authority_(District)':'Local_Authority_District','Pedestrian_Crossing-Human_Control':'Pedestrian_Crossing_Human_Control','Pedestrian_Crossing-Physical_Facilities':'Pedestrian_Crossing_Physical_Facilities'}, inplace=True)\n",
    "\n",
    "accident_cols = [\"Accident_Index\",\"Date\",\"Day_of_Week\",\"Light_Conditions\",\"Local_Authority_District\",\"Number_of_Casualties\",\"Pedestrian_Crossing_Human_Control\",\"Pedestrian_Crossing_Physical_Facilities\",\"Road_Surface_Conditions\",\"Road_Type\",\"Special_Conditions_at_Site\",\"Time\",\"Year\",\"month\"]\n",
    "\n",
    "accident_transformed = accident_cleanse_data[accident_cols].copy()\n",
    "accident_transformed.set_index(\"Accident_Index\", inplace=True)\n",
    "\n",
    "index = accident_transformed.index\n",
    "number_of_rows = len(index)\n",
    "print(number_of_rows)\n"
   ]
  },
  {
   "cell_type": "code",
   "execution_count": 11,
   "metadata": {},
   "outputs": [],
   "source": [
    "### Create database connection"
   ]
  },
  {
   "cell_type": "code",
   "execution_count": 12,
   "metadata": {},
   "outputs": [],
   "source": [
    "from sqlalchemy import create_engine\n",
    "connection_string = \"postgres:postgres@localhost:5432/Accident_Db\"\n",
    "engine = create_engine(f'postgresql://{connection_string}')"
   ]
  },
  {
   "cell_type": "code",
   "execution_count": 13,
   "metadata": {},
   "outputs": [
    {
     "output_type": "execute_result",
     "data": {
      "text/plain": [
       "[]"
      ]
     },
     "metadata": {},
     "execution_count": 13
    }
   ],
   "source": [
    "engine.table_names()"
   ]
  },
  {
   "cell_type": "code",
   "execution_count": 14,
   "metadata": {},
   "outputs": [],
   "source": [
    "### Load DataFrames into database"
   ]
  },
  {
   "cell_type": "code",
   "execution_count": 15,
   "metadata": {},
   "outputs": [],
   "source": [
    "vehicle_transformed.to_sql(name='vehicles', con=engine, if_exists='append', index=True)\n"
   ]
  },
  {
   "cell_type": "code",
   "execution_count": 16,
   "metadata": {},
   "outputs": [],
   "source": [
    "accident_transformed.to_sql(name='accident', con=engine, if_exists='append', index=True)"
   ]
  },
  {
   "cell_type": "code",
   "execution_count": 17,
   "metadata": {},
   "outputs": [],
   "source": [
    "london_weather.to_sql(name='weather', con=engine, if_exists='append', index=False)"
   ]
  },
  {
   "cell_type": "code",
   "execution_count": null,
   "metadata": {},
   "outputs": [],
   "source": []
  }
 ]
}